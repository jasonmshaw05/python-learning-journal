{
  "nbformat": 4,
  "nbformat_minor": 0,
  "metadata": {
    "colab": {
      "provenance": [],
      "authorship_tag": "ABX9TyNysXgp/eqT6pMJAcOxCVpq",
      "include_colab_link": true
    },
    "kernelspec": {
      "name": "python3",
      "display_name": "Python 3"
    },
    "language_info": {
      "name": "python"
    }
  },
  "cells": [
    {
      "cell_type": "markdown",
      "metadata": {
        "id": "view-in-github",
        "colab_type": "text"
      },
      "source": [
        "<a href=\"https://colab.research.google.com/github/jasonmshaw05/python-learning-journal/blob/main/Week7Lab.ipynb\" target=\"_parent\"><img src=\"https://colab.research.google.com/assets/colab-badge.svg\" alt=\"Open In Colab\"/></a>"
      ]
    },
    {
      "cell_type": "code",
      "source": [
        "import heapq\n",
        "\n",
        "class Stack:\n",
        "  def __init__(self):\n",
        "    self.stack = []\n",
        "\n",
        "  def isEmpty(self):\n",
        "    return len(self.stack) == 0\n",
        "\n",
        "  def getSize(self):\n",
        "    return len(self.stack)\n",
        "\n",
        "  def push(self, data):\n",
        "    self.stack.append(data)\n",
        "\n",
        "  def pop(self):\n",
        "    if self.isEmpty() == False:\n",
        "      return self.stack.pop()\n",
        "\n",
        "  def peek(self):\n",
        "    if self.isEmpty() == False:\n",
        "      return self.stack[-1]\n",
        "\n",
        "class Queue:\n",
        "  def __init__(self):\n",
        "    self.queue = []\n",
        "\n",
        "  def enqueue(self, data):\n",
        "    self.queue.append(data)\n",
        "\n",
        "  def dequeue(self):\n",
        "    if self.isEmpty() == False:\n",
        "      return self.queue.pop(0)\n",
        "\n",
        "  def getSize(self):\n",
        "    return len(self.queue)\n",
        "\n",
        "  def peek(self):\n",
        "    if self.isEmpty() == False:\n",
        "      return self.queue[0]\n",
        "\n",
        "  def isEmpty(self):\n",
        "    return len(self.queue) == 0\n",
        "\n",
        "class PriorityQueue(Queue):\n",
        "  def __init__(self):\n",
        "    super().__init__()\n",
        "\n",
        "  def enqueue(self, data):\n",
        "    heapq.heappush(self.queue, data)\n",
        "\n",
        "  def dequeue(self):\n",
        "    return heapq.heappop(self.queue)"
      ],
      "metadata": {
        "id": "YxTSDDb6O589"
      },
      "execution_count": 56,
      "outputs": []
    },
    {
      "cell_type": "code",
      "source": [
        "class ElevatorRide():\n",
        "\n",
        "  def __init__(self):\n",
        "    self.rideCapacity = Stack()\n",
        "\n",
        "  def boardGuest(self, guestName):\n",
        "    self.rideCapacity.push(guestName)\n",
        "\n",
        "  def startRide(self, capacity):\n",
        "    if self.rideCapacity.getSize() > capacity:\n",
        "      print(\"The ride could not start due to the elevator being overloaded. Remove someone from the ride!\")\n",
        "    else:\n",
        "      print(\"The ride operates! It's super fun and definitely worth the motion sickness\")\n",
        "      for x in range(0,self.rideCapacity.getSize()):\n",
        "        print(self.rideCapacity.pop() + \" exited the ride!\")"
      ],
      "metadata": {
        "id": "nF57k9kSYnc0"
      },
      "execution_count": 20,
      "outputs": []
    },
    {
      "cell_type": "code",
      "source": [
        "class RollerCoasterRide():\n",
        "\n",
        "  def __init__(self):\n",
        "    self.rideCapacity = Queue()\n",
        "\n",
        "  def joinQueue(self, guestName):\n",
        "    self.rideCapacity.enqueue(guestName)\n",
        "\n",
        "  def startRide(self, capacity):\n",
        "    if self.rideCapacity.getSize() > capacity:\n",
        "      print(\"Not everyone in the queue was able to enter the ride since the queue was larger than the ride capacity\")\n",
        "      for x in range(0,capacity):\n",
        "        print(self.rideCapacity.dequeue() + \" enters the ride!\")\n",
        "    else:\n",
        "      for x in range(0,self.rideCapacity.getSize()):\n",
        "        print(self.rideCapacity.dequeue() + \" enters the ride!\")\n",
        "    print(\"The ride operates! It's not as fun and definitely not worth the wait\")"
      ],
      "metadata": {
        "id": "3m6s65d4aYEs"
      },
      "execution_count": 40,
      "outputs": []
    },
    {
      "cell_type": "code",
      "execution_count": 58,
      "metadata": {
        "id": "og2tLCs8D0ye"
      },
      "outputs": [],
      "source": [
        "class VIPRide():\n",
        "\n",
        "  def __init__(self):\n",
        "    self.rideCapacity = PriorityQueue()\n",
        "\n",
        "  def addGuest(self, guest):\n",
        "    self.rideCapacity.enqueue(guest)\n",
        "\n",
        "  def startRide(self, capacity):\n",
        "    if self.rideCapacity.getSize() > capacity:\n",
        "      print(\"Not everyone in the queue was able to enter the ride since the queue was larger than the ride capacity\")\n",
        "      for x in range(0,capacity):\n",
        "        print((self.rideCapacity.dequeue())[1] + \" enters the ride!\")\n",
        "    else:\n",
        "      for x in range(0,self.rideCapacity.getSize()):\n",
        "        print((self.rideCapacity.dequeue())[1] + \" enters the ride!\")\n",
        "    print(\"The ride operates! It would have been a lot more fun if all those class traitors weren't able to buy their way to the front\")"
      ]
    },
    {
      "cell_type": "code",
      "source": [
        "towerOfTerror = ElevatorRide()\n",
        "towerOfTerror.boardGuest(\"Jimmy Wallsocket\")\n",
        "towerOfTerror.boardGuest(\"Fignewton\")\n",
        "towerOfTerror.boardGuest(\"Terry Crumble\")\n",
        "towerOfTerror.boardGuest(\"Gardenwalker\")\n",
        "towerOfTerror.boardGuest(\"Isaac Moriah\")\n",
        "towerOfTerror.boardGuest(\"Saoirse Alesandro\")\n",
        "towerOfTerror.boardGuest(\"Chris Gough\")\n",
        "towerOfTerror.boardGuest(\"Jeremy Romero\")\n",
        "towerOfTerror.boardGuest(\"Thomas Calvo\")\n",
        "towerOfTerror.boardGuest(\"Thomas Calvo the 2nd\")\n",
        "towerOfTerror.startRide(10)"
      ],
      "metadata": {
        "id": "EJ-2HixdR5sF",
        "colab": {
          "base_uri": "https://localhost:8080/"
        },
        "outputId": "b2284941-aeb2-4dd9-846a-9b87f2b7f46a"
      },
      "execution_count": 63,
      "outputs": [
        {
          "output_type": "stream",
          "name": "stdout",
          "text": [
            "The ride operates! It's super fun and definitely worth the motion sickness\n",
            "Thomas Calvo the 2nd exited the ride!\n",
            "Thomas Calvo exited the ride!\n",
            "Jeremy Romero exited the ride!\n",
            "Chris Gough exited the ride!\n",
            "Saoirse Alesandro exited the ride!\n",
            "Isaac Moriah exited the ride!\n",
            "Gardenwalker exited the ride!\n",
            "Terry Crumble exited the ride!\n",
            "Fignewton exited the ride!\n",
            "Jimmy Wallsocket exited the ride!\n"
          ]
        }
      ]
    },
    {
      "cell_type": "code",
      "source": [
        "vomitTube = RollerCoasterRide()\n",
        "vomitTube.joinQueue(\"Shahnoza Eupraxia\")\n",
        "vomitTube.joinQueue(\"Gözde Edan\")\n",
        "vomitTube.joinQueue(\"Dominykas Glynn\")\n",
        "vomitTube.joinQueue(\"Svein Aina\")\n",
        "vomitTube.joinQueue(\"Donata Liesje\")\n",
        "vomitTube.joinQueue(\"Eulália Subhadra\")\n",
        "vomitTube.joinQueue(\"Nanda Eugenios\")\n",
        "vomitTube.joinQueue(\"Najm Silas\")\n",
        "vomitTube.joinQueue(\"Veca Akaki\")\n",
        "vomitTube.joinQueue(\"Jósteinn Wahid\")\n",
        "vomitTube.startRide(10)"
      ],
      "metadata": {
        "colab": {
          "base_uri": "https://localhost:8080/"
        },
        "id": "wmwuYJ93bA3E",
        "outputId": "e1b27efa-bb27-4bad-9db6-3b4a8a43fd95"
      },
      "execution_count": 64,
      "outputs": [
        {
          "output_type": "stream",
          "name": "stdout",
          "text": [
            "Shahnoza Eupraxia enters the ride!\n",
            "Gözde Edan enters the ride!\n",
            "Dominykas Glynn enters the ride!\n",
            "Svein Aina enters the ride!\n",
            "Donata Liesje enters the ride!\n",
            "Eulália Subhadra enters the ride!\n",
            "Nanda Eugenios enters the ride!\n",
            "Najm Silas enters the ride!\n",
            "Veca Akaki enters the ride!\n",
            "Jósteinn Wahid enters the ride!\n",
            "The ride operates! It's not as fun and definitely not worth the wait\n"
          ]
        }
      ]
    },
    {
      "cell_type": "code",
      "source": [
        "theAwesomeRideThatEveryoneLoves = VIPRide()\n",
        "theAwesomeRideThatEveryoneLoves.addGuest((2,\"Celebrity\"))\n",
        "theAwesomeRideThatEveryoneLoves.addGuest((7,\"Middle-aged Man\"))\n",
        "theAwesomeRideThatEveryoneLoves.addGuest((9,\"Broke College Student\"))\n",
        "theAwesomeRideThatEveryoneLoves.addGuest((1,\"The literal Chinese President \"))\n",
        "theAwesomeRideThatEveryoneLoves.addGuest((6,\"Slightly More Wealthy Man\"))\n",
        "theAwesomeRideThatEveryoneLoves.addGuest((3,\"Theme Park Enthusiast\"))\n",
        "theAwesomeRideThatEveryoneLoves.addGuest((10,\"A baby\"))\n",
        "theAwesomeRideThatEveryoneLoves.addGuest((2,\"Celebrity (yeah another one)\"))\n",
        "theAwesomeRideThatEveryoneLoves.addGuest((4,\"Washed-up Celebrity\"))\n",
        "theAwesomeRideThatEveryoneLoves.addGuest((3,\"STEM guy\"))\n",
        "theAwesomeRideThatEveryoneLoves.startRide(10)"
      ],
      "metadata": {
        "id": "OZa6HMaVbymj",
        "colab": {
          "base_uri": "https://localhost:8080/"
        },
        "outputId": "06131624-33f3-4a62-bc15-fbb1f1a5e042"
      },
      "execution_count": 65,
      "outputs": [
        {
          "output_type": "stream",
          "name": "stdout",
          "text": [
            "The literal Chinese President  enters the ride!\n",
            "Celebrity enters the ride!\n",
            "Celebrity (yeah another one) enters the ride!\n",
            "STEM guy enters the ride!\n",
            "Theme Park Enthusiast enters the ride!\n",
            "Washed-up Celebrity enters the ride!\n",
            "Slightly More Wealthy Man enters the ride!\n",
            "Middle-aged Man enters the ride!\n",
            "Broke College Student enters the ride!\n",
            "A baby enters the ride!\n",
            "The ride operates! It would have been a lot more fun if all those class traitors weren't able to buy their way to the front\n"
          ]
        }
      ]
    }
  ]
}