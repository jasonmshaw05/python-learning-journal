{
  "nbformat": 4,
  "nbformat_minor": 0,
  "metadata": {
    "colab": {
      "provenance": [],
      "authorship_tag": "ABX9TyOvDuaFEn61abB8ksq76rKV",
      "include_colab_link": true
    },
    "kernelspec": {
      "name": "python3",
      "display_name": "Python 3"
    },
    "language_info": {
      "name": "python"
    }
  },
  "cells": [
    {
      "cell_type": "markdown",
      "metadata": {
        "id": "view-in-github",
        "colab_type": "text"
      },
      "source": [
        "<a href=\"https://colab.research.google.com/github/jasonmshaw05/python-learning-journal/blob/main/Lab13.ipynb\" target=\"_parent\"><img src=\"https://colab.research.google.com/assets/colab-badge.svg\" alt=\"Open In Colab\"/></a>"
      ]
    },
    {
      "cell_type": "code",
      "execution_count": 58,
      "metadata": {
        "id": "yBYASLG1Gxtz"
      },
      "outputs": [],
      "source": [
        "from collections import deque\n",
        "\n",
        "class Graph:\n",
        "  def __init__(self, size):\n",
        "    self.size = size\n",
        "    self.adjMatrix = [[0] * size for _ in range(size)]\n",
        "    self.verticesList = {}\n",
        "    self.vertexAmount = 0\n",
        "\n",
        "\n",
        "  def addVertex(self, vertex):\n",
        "    if self.verticesList.get(vertex) == None:\n",
        "      self.verticesList.update({vertex:self.vertexAmount})\n",
        "      self.vertexAmount += 1\n",
        "\n",
        "  def addEdge(self, v1, v2):\n",
        "    i = self.verticesList.get(v1)\n",
        "    j = self.verticesList.get(v2)\n",
        "    if i != None and j != None:\n",
        "      self.adjMatrix[i][j] = 1\n",
        "    else:\n",
        "      print(\"One/both of those vertices do(es) not exist\")\n",
        "\n",
        "  def printAdjMatrix(self):\n",
        "    for rows in self.adjMatrix:\n",
        "      print(rows)\n",
        "\n",
        "  def breadthFirstSearch(self, sourceVertex):\n",
        "    visited = {}\n",
        "    queueToVisit = deque([(sourceVertex, self.verticesList.get(sourceVertex))])\n",
        "    while len(queueToVisit) != 0:\n",
        "      vertexAt = queueToVisit.pop()\n",
        "      visited.update({vertexAt[0]:vertexAt[1]})\n",
        "      print(vertexAt[0])\n",
        "      connectionsList = self.adjMatrix[vertexAt[1]]\n",
        "      for connections in range(len(connectionsList)):\n",
        "        if connectionsList[connections] != 0:\n",
        "          for items in self.verticesList.items():\n",
        "            if items[1] == connections and visited.get(items[0]) == None:\n",
        "              queueToVisit.appendleft(items)\n",
        "              visited.update({items[0]:items[1]})\n",
        "\n",
        "  def depthFirstSearch(self, sourceVertex):\n",
        "    visited = {}\n",
        "    stackToVisit = deque([(sourceVertex, self.verticesList.get(sourceVertex))])\n",
        "    while len(stackToVisit) != 0:\n",
        "      vertexAt = stackToVisit.pop()\n",
        "      visited.update({vertexAt[0]:vertexAt[1]})\n",
        "      print(vertexAt[0])\n",
        "      connectionsList = self.adjMatrix[vertexAt[1]]\n",
        "      for connections in range(len(connectionsList)):\n",
        "        if connectionsList[connections] != 0:\n",
        "          for items in self.verticesList.items():\n",
        "            if items[1] == connections and visited.get(items[0]) == None:\n",
        "              stackToVisit.append(items)\n",
        "              visited.update({items[0]:items[1]})\n",
        "\n",
        "  def shortestRoute(self, startVertex, endVertex):\n",
        "    visited = {}\n",
        "    length = len(self.adjMatrix)\n",
        "    distance = [-1] * length\n",
        "    distance[self.verticesList.get(startVertex)] = 0\n",
        "    parents = [-1] * length\n",
        "    queueToVisit = deque([(startVertex, self.verticesList.get(startVertex))])\n",
        "    while len(queueToVisit) != 0:\n",
        "      vertexAt = queueToVisit.pop()\n",
        "      visited.update({vertexAt[0]:vertexAt[1]})\n",
        "      connectionsList = self.adjMatrix[vertexAt[1]]\n",
        "      for connections in range(len(connectionsList)):\n",
        "        if connectionsList[connections] != 0:\n",
        "          for items in self.verticesList.items():\n",
        "            if items[1] == connections and visited.get(items[0]) == None:\n",
        "              queueToVisit.append(items)\n",
        "              visited.update({items[0]:items[1]})\n",
        "              distance[connections] =  distance[self.verticesList.get(vertexAt[0])] + 1\n",
        "              parents[connections] = vertexAt\n",
        "    if distance[self.verticesList.get(endVertex)] == -1:\n",
        "      print(\"No route was found\")\n",
        "    else:\n",
        "      path = []\n",
        "      path.append(endVertex)\n",
        "      vertexAt = parents[self.verticesList.get(endVertex)]\n",
        "      while parents[vertexAt[1]] != -1:\n",
        "        path.append(vertexAt[0])\n",
        "        vertexAt = parents[vertexAt[1]]\n",
        "      path.append(vertexAt[0])\n",
        "      path.reverse()\n",
        "      return path\n"
      ]
    },
    {
      "cell_type": "code",
      "source": [
        "Town = Graph(10)\n",
        "Town.addVertex(\"Apple Alley\")\n",
        "Town.addVertex(\"Birch Broadway\")\n",
        "Town.addVertex(\"Creepy Court\")\n",
        "Town.addVertex(\"Donut Drive\")\n",
        "Town.addVertex(\"Eric's Estuary\")\n",
        "Town.addVertex(\"Freaky Forest\")\n",
        "Town.addVertex(\"Great Grotto\")\n",
        "Town.addVertex(\"Harbor Heights\")\n",
        "Town.addVertex(\"Ilex Island\")\n",
        "Town.addVertex(\"Jungle Jim\")\n",
        "Town.addEdge(\"Apple Alley\", \"Eric's Estuary\")\n",
        "Town.addEdge(\"Eric's Estuary\", \"Great Grotto\")\n",
        "Town.addEdge(\"Great Grotto\", \"Jungle Jim\")\n",
        "Town.addEdge(\"Jungle Jim\", \"Ilex Island\")\n",
        "Town.addEdge(\"Ilex Island\", \"Donut Drive\")\n",
        "Town.addEdge(\"Donut Drive\", \"Creepy Court\")\n",
        "Town.addEdge(\"Creepy Court\", \"Birch Broadway\")\n",
        "Town.addEdge(\"Birch Broadway\", \"Apple Alley\")\n",
        "Town.addEdge(\"Apple Alley\", \"Freaky Forest\")\n",
        "Town.addEdge(\"Freaky Forest\", \"Harbor Heights\")\n",
        "Town.addEdge(\"Harbor Heights\", \"Ilex Island\")\n",
        "Town.addEdge(\"Harbor Heights\", \"Birch Broadway\")\n",
        "Town.addEdge(\"Harbor Heights\", \"Creepy Court\")\n",
        "Town.addEdge(\"Donut Drive\", \"Harbor Heights\")\n",
        "Town.addEdge(\"Eric's Estuary\", \"Harbor Heights\")\n",
        "Town.shortestRoute(\"Apple Alley\", \"Donut Drive\")"
      ],
      "metadata": {
        "colab": {
          "base_uri": "https://localhost:8080/"
        },
        "id": "Vuv4x-H_G2XJ",
        "outputId": "30f3e0ea-96db-4d60-8cf2-395c8f535a48"
      },
      "execution_count": 61,
      "outputs": [
        {
          "output_type": "stream",
          "name": "stdout",
          "text": [
            "No route was found\n"
          ]
        }
      ]
    }
  ]
}