{
  "nbformat": 4,
  "nbformat_minor": 0,
  "metadata": {
    "colab": {
      "provenance": [],
      "authorship_tag": "ABX9TyOogx6975FIM+L+WpKis6+H",
      "include_colab_link": true
    },
    "kernelspec": {
      "name": "python3",
      "display_name": "Python 3"
    },
    "language_info": {
      "name": "python"
    }
  },
  "cells": [
    {
      "cell_type": "markdown",
      "metadata": {
        "id": "view-in-github",
        "colab_type": "text"
      },
      "source": [
        "<a href=\"https://colab.research.google.com/github/jasonmshaw05/python-learning-journal/blob/main/Week5%266Lab.ipynb\" target=\"_parent\"><img src=\"https://colab.research.google.com/assets/colab-badge.svg\" alt=\"Open In Colab\"/></a>"
      ]
    },
    {
      "cell_type": "code",
      "execution_count": 55,
      "metadata": {
        "id": "cqFVukUmkc4G"
      },
      "outputs": [],
      "source": [
        "#linked list implementation\n",
        "class Node:\n",
        "  def __init__(self, data):\n",
        "    self.data = data\n",
        "    self.next = None\n",
        "\n",
        "class LinkedList:\n",
        "  def __init__(self):\n",
        "    self.size = 0\n",
        "    self.head = None\n",
        "\n",
        "  def prepend(self,data):\n",
        "    newNode = Node(data)\n",
        "    newNode.next = self.head\n",
        "    self.head = newNode\n",
        "    self.size += 1\n",
        "\n",
        "  def append(self,data):\n",
        "    newNode = Node(data)\n",
        "    newNode.next = None\n",
        "    if self.head == None:\n",
        "      self.head = newNode\n",
        "    else:\n",
        "      nodeAt = self.head\n",
        "      while nodeAt.next != None:\n",
        "        nodeAt = nodeAt.next\n",
        "      nodeAt.next = newNode\n",
        "    self.size += 1\n",
        "\n",
        "  def printList(self):\n",
        "    nodeToPrint = self.head\n",
        "    while nodeToPrint.next != None:\n",
        "      print(nodeToPrint.data)\n",
        "      nodeToPrint = nodeToPrint.next\n",
        "    print(nodeToPrint.data)\n",
        "\n",
        "  def search(self, target):\n",
        "    nodeToSearch = self.head\n",
        "    while nodeToSearch.next != None:\n",
        "      if nodeToSearch.data == target:\n",
        "        return nodeToSearch\n",
        "      nodeToPrint = nodeToPrint.next\n",
        "    return None\n",
        "\n",
        "  def insertAfter(self, index, data):\n",
        "    newNode = Node(data)\n",
        "    nodeAt = self.head\n",
        "    nodeNext = nodeAt.next\n",
        "    for x in range(index):\n",
        "      nodeAt = nodeAt.next\n",
        "      nodeNext = nodeNext.next\n",
        "    nodeAt.next = newNode\n",
        "    newNode.next = nodeNext\n",
        "    self.size += 1\n",
        "\n",
        "  def remove(self,position):\n",
        "    nodeAt = self.head\n",
        "    if position == 1:\n",
        "      self.head = nodeAt.next\n",
        "    elif position == self.size:\n",
        "      for x in range(position-2):\n",
        "        nodeAt = nodeAt.next\n",
        "      nodeAt.next = None\n",
        "    else:\n",
        "      for x in range(position-2):\n",
        "        nodeAt = nodeAt.next\n",
        "      nodeAt.next = nodeAt.next.next\n",
        "\n",
        "\n",
        "\n"
      ]
    },
    {
      "cell_type": "code",
      "source": [
        "#classes UnitCard and SpellCard that inherit from a parent Card class\n",
        "class Card:\n",
        "  def __init__(self, name, cost):\n",
        "    self.name = None\n",
        "    self.cost = None\n",
        "\n",
        "class UnitCard(Card):\n",
        "  def __init__(self, name, cost, attack, health, boardIcon):\n",
        "    self.cardType = \"Unit\"\n",
        "    self.name = name\n",
        "    self.cost = cost\n",
        "    self.health = health\n",
        "    self.attack = attack\n",
        "    self.boardIcon = boardIcon\n",
        "\n",
        "class SpellCard(Card):\n",
        "  def __init__(self, name, cost):\n",
        "    self.cardType = \"Spell\"\n",
        "    self.name = name\n",
        "    self.cost = cost"
      ],
      "metadata": {
        "id": "DeTMcXpHtpp8"
      },
      "execution_count": 56,
      "outputs": []
    },
    {
      "cell_type": "code",
      "source": [
        "#player class that stores their \"avatar\", health, max and temp mana. Generates a random deck on creation, an empty hand, and a board filled with null minions\n",
        "class Player:\n",
        "  def __init__(self, ID):\n",
        "    self.ID = ID\n",
        "    self.health = 30\n",
        "    self.maxMana = 5 #if mana is a fraction (like in hearthstone), max mana is the total amount you get per turn [0/X]\n",
        "    self.tempMana = 0 #temp mana is the current amount you have [X/0]\n",
        "    self.deck = createDeck(30)\n",
        "    self.hand = []\n",
        "    self.board = [UnitCard(\"EmptyPos\",0,0,0,\"0\")] * 5\n",
        "\n",
        "#draws cards for the player of the amount given\n",
        "  def drawCards(self, amount):\n",
        "    for cards in range(amount):\n",
        "      self.hand.append(self.deck.head.data)\n",
        "      self.deck.remove(1) #removes the card from the top of the deck\n",
        "    print(\"Player \" + self.ID + \" drew \" + str(amount) + \" cards!\")\n",
        "\n",
        "#returns the hand size for checking to see if a valid card was picked in getPlayerChoice()\n",
        "  def getHandSize(self):\n",
        "    return len(self.hand)"
      ],
      "metadata": {
        "id": "qWZPPDP90eVI"
      },
      "execution_count": 84,
      "outputs": []
    },
    {
      "cell_type": "code",
      "source": [
        "def createDeck(cards):\n",
        "  #randomly generate a deck of 30 cards, 15 unit and 15 spell, per player\n",
        "  playerDeck = LinkedList()\n",
        "  unitCount = 0\n",
        "  spellCount = 0\n",
        "  #to ensure a random deck, either a unit or a spell is randomly generated, unless there are more than 10 of either, in which case only the latter is generated\n",
        "  for x in range (0,cards):\n",
        "    if random.randint(0,1) == 0 and unitCount < 15:\n",
        "      playerDeck.append(generateUnitCard())\n",
        "      unitCount += 1\n",
        "    elif spellCount < 15:\n",
        "      playerDeck.append(generateSpellCard())\n",
        "      spellCount += 1\n",
        "    else:\n",
        "      playerDeck.append(generateUnitCard())\n",
        "      unitCount += 1\n",
        "  return playerDeck"
      ],
      "metadata": {
        "id": "vmOJDWNFpZYG"
      },
      "execution_count": 58,
      "outputs": []
    },
    {
      "cell_type": "code",
      "source": [
        "def generateUnitCard():\n",
        "  unitChoice = random.randint(0,10)\n",
        "  if unitChoice <=  3:\n",
        "    return UnitCard(\"Gnome Archer\", 1, 2, 3, \"G\") #2/3 that costs 1 mana (power creep amirite?)\n",
        "  elif unitChoice <= 6:\n",
        "    return UnitCard(\"Back-alley Thug\", 2, 4, 2, \"B\") #4/2 that costs 2 mana\n",
        "  elif unitChoice <= 8:\n",
        "    return UnitCard(\"Orc Shieldmistress\", 3, 3, 8, \"S\") #2/9 that costs 3 mana\n",
        "  elif unitChoice == 9:\n",
        "    return UnitCard(\"Kenku Wanderer\", 4, 7, 5, \"K\") #8/6 that costs 4 mana\n",
        "  elif unitChoice == 10:\n",
        "    return UnitCard(\"Elemental Wyrm\", 6, 11, 11, \"E\") #11/11 that costs 6 mana"
      ],
      "metadata": {
        "id": "P7-AI2cD2BEl"
      },
      "execution_count": 88,
      "outputs": []
    },
    {
      "cell_type": "code",
      "source": [
        "def generateSpellCard():\n",
        "  spellChoice = random.randint(0,9)\n",
        "  if spellChoice <= 2:\n",
        "    return SpellCard(\"Fire Spire\", 1) #deal 3 damage to a MINION only\n",
        "  elif spellChoice <= 5:\n",
        "    return SpellCard(\"Vitality Boon\", 1) #buff a minion's health by 5\n",
        "  elif spellChoice <= 7:\n",
        "    return SpellCard(\"Earthquake Rune\", 2) #deal 2 damage to all enemy characters\n",
        "  if spellChoice == 8:\n",
        "    return SpellCard(\"Switcheroo\", 2) #swap two units on the board\n",
        "  elif spellChoice == 9:\n",
        "    return SpellCard(\"Second Wind\", 3) #heal 12 health to your avatar"
      ],
      "metadata": {
        "id": "uQsClSFW5Cy2"
      },
      "execution_count": 89,
      "outputs": []
    },
    {
      "cell_type": "code",
      "source": [
        "from google.colab import output\n",
        "import time\n",
        "import random\n",
        "\n",
        "def runGame():\n",
        "  player1 = Player(\"1_1\") #creates two players\n",
        "  player2 = Player(\"2_2\")\n",
        "  turn = 0\n",
        "  player1.drawCards(6) #they each draw 6 cards\n",
        "  player2.drawCards(6)\n",
        "  leadingPlayer, laggingPlayer = coinFlip(player1, player2) #a first and second player (leading and lagging) are set using coinFlip()\n",
        "  time.sleep(5)\n",
        "  while leadingPlayer.health > 0 and laggingPlayer.health > 0: #for however long that both players are above 0 health, setup and battle are called for the leading player,\n",
        "    turn += 1\n",
        "    setupPhase(leadingPlayer, laggingPlayer, turn)\n",
        "    battlePhase(leadingPlayer, laggingPlayer)\n",
        "    if laggingPlayer.health <= 0: #if the leading player drops their opponent to 0 or below HP, the leading player wins\n",
        "      print(leadingPlayer.ID + \" Wins!\")\n",
        "      break\n",
        "    leadingPlayer.drawCards(3)\n",
        "    if (leadingPlayer.deck.size == 0):\n",
        "      suddenDeath(leadingPlayer, laggingPlayer)\n",
        "      break\n",
        "    turn += 1\n",
        "    setupPhase(laggingPlayer, leadingPlayer, turn) #the process is repeated for the lagging player\n",
        "    battlePhase(laggingPlayer, leadingPlayer)\n",
        "    if leadingPlayer.health <= 0:\n",
        "      print(laggingPlayer.ID + \" Wins!\")\n",
        "    laggingPlayer.drawCards(3)"
      ],
      "metadata": {
        "id": "M2OkN19JouXg"
      },
      "execution_count": 86,
      "outputs": []
    },
    {
      "cell_type": "code",
      "source": [
        "#decide leading and lagging, print some explanation text, and iterate the lagging player's mana by 1, returning the order of the leading and lagging player\n",
        "def coinFlip(player1, player2):\n",
        "  coinFlip = random.randint(0,1)\n",
        "  if coinFlip == 0:\n",
        "    print(\"The coin landed on heads! Player 1 starts and Player 2 will receive 1 extra mana in exchange\")\n",
        "    print()\n",
        "    player2.maxMana += 1\n",
        "    return player1, player2\n",
        "  else:\n",
        "    print(\"The coin landed on tails! Player 2 starts and Player 1 will receive 1 extra mana in exchange\")\n",
        "    print()\n",
        "    player1.maxMana += 1\n",
        "    return player2, player1"
      ],
      "metadata": {
        "id": "u8KJbrnOPkeJ"
      },
      "execution_count": 62,
      "outputs": []
    },
    {
      "cell_type": "code",
      "source": [
        "#players place units and spells during this phase\n",
        "def setupPhase(currentPlayer, offPlayer, turn):\n",
        "  if currentPlayer.maxMana < 10: #mana is iterated by 1, unless mana is aleady at 10\n",
        "    currentPlayer.maxMana += 1\n",
        "  currentPlayer.tempMana = currentPlayer.maxMana\n",
        "  endLoop = False\n",
        "  while endLoop == False: #allows players to play cards until they desire to end their turn\n",
        "    output.clear()\n",
        "    print(\"Turn \" + str(turn))\n",
        "    generateBoard(currentPlayer, offPlayer)\n",
        "    generateStats(currentPlayer, offPlayer)\n",
        "    generateHand(currentPlayer, offPlayer)\n",
        "    print(\"Which card would you like to play? (Type 'pass' to skip your turn)\")\n",
        "    playerChoice = getPlayerChoice(currentPlayer)\n",
        "    if playerChoice == -1:\n",
        "      endLoop = endTurn()\n",
        "    else:\n",
        "      currentPlayer.tempMana -= currentPlayer.hand[playerChoice-1].cost #the cost of the card is subtracted from the mana total\n",
        "      if currentPlayer.hand[playerChoice-1].cardType == \"Unit\":\n",
        "        unitImplementation(currentPlayer, offPlayer, playerChoice-1) #if the card is a unit, a position is chosen for the unit\n",
        "      elif currentPlayer.hand[playerChoice-1].cardType == \"Spell\":\n",
        "        spellImplementation(currentPlayer, offPlayer, playerChoice-1) #if the card is a spell, a target is chosen and the effect takes place\n",
        "      endLoop = endTurn()"
      ],
      "metadata": {
        "id": "3_d-c42znJ7-"
      },
      "execution_count": 78,
      "outputs": []
    },
    {
      "cell_type": "code",
      "source": [
        "#returns the card choice\n",
        "def getPlayerChoice(currentPlayer):\n",
        "  playerInput = input()\n",
        "  endLoop = False\n",
        "  while endLoop == False:\n",
        "      if playerInput.lower() == \"pass\":\n",
        "        return -1\n",
        "      try:\n",
        "        if int(playerInput) > currentPlayer.getHandSize() or int(playerInput) < 1: #if the player inputs a number greater than the hand size or less than 1, an error is thrown\n",
        "          print(\"Not a valid card\")\n",
        "          playerInput = input()\n",
        "        else:\n",
        "          if currentPlayer.hand[int(playerInput)-1].cost > currentPlayer.tempMana: #if they don't have enough mana to play the card, an error is thrown\n",
        "            print(\"You don't have enough mana to play this card!\")\n",
        "            playerInput = input()\n",
        "          else:\n",
        "            return int(playerInput) #otherwise, the card choice is returned\n",
        "            endLoop = True\n",
        "      except:\n",
        "        print(\"Not a valid input\") #if the input is not a number, an error is thrown\n",
        "        playerInput = input()\n",
        "\n",
        "#returns either true or false if the player ends their turn\n",
        "def endTurn():\n",
        "  print(\"End turn? (Y/N)\")\n",
        "  endLoop = False\n",
        "  playerInput = input()\n",
        "  while endLoop == False:\n",
        "    if playerInput == \"Y\":\n",
        "      return True\n",
        "    elif playerInput == \"N\":\n",
        "      return False\n",
        "    else:\n",
        "      print(\"Invalid input\")\n",
        "      playerInput = input()"
      ],
      "metadata": {
        "id": "6lDMNm1jOXgJ"
      },
      "execution_count": 64,
      "outputs": []
    },
    {
      "cell_type": "code",
      "source": [
        "def unitImplementation(currentPlayer, offPlayer, playerChoice):\n",
        "  print(\"What position would you like to play your unit?\")\n",
        "  playerInput = input()\n",
        "  endLoop = False\n",
        "  while endLoop == False:\n",
        "    try:\n",
        "      if int(playerInput) > 5 or int(playerInput) < 1:\n",
        "        print(\"Not a valid position\")\n",
        "        playerInput = input()\n",
        "      else:\n",
        "        output.clear()\n",
        "        currentPlayer.board[int(playerInput)-1] = currentPlayer.hand.pop(playerChoice) #the pop method is specifically performed to REMOVE the card from your hand\n",
        "        endLoop = True\n",
        "        generateBoard(currentPlayer,offPlayer)\n",
        "        generateStats(currentPlayer, offPlayer)\n",
        "        generateHand(currentPlayer,offPlayer)\n",
        "    except:\n",
        "      print(\"Invalid input\")\n",
        "      playerInput = input()"
      ],
      "metadata": {
        "id": "ort9UANWFwBA"
      },
      "execution_count": 65,
      "outputs": []
    },
    {
      "cell_type": "code",
      "source": [
        "def spellImplementation(currentPlayer, offPlayer, playerChoice):\n",
        "  spellChosen = currentPlayer.hand.pop(playerChoice)\n",
        "  if spellChosen.name == \"Fire Spire\":\n",
        "    target = spellSelector(currentPlayer, offPlayer)\n",
        "    if target < 5:\n",
        "      currentPlayer.board[target].health -= 3\n",
        "      print(\"Your \" + currentPlayer.board[target].name + \" took 3 damage!\")\n",
        "      if currentPlayer.board[target-5].health <= 0:\n",
        "        print(\"Your \" + currentPlayer.board[target].name + \" has been slain!\")\n",
        "        offPlayer.board[target] =  UnitCard(\"EmptyPos\",0,0,0,\"0\")\n",
        "    else:\n",
        "      offPlayer.board[target-5].health -= 3\n",
        "      print(\"Opponent's \" + offPlayer.board[target-5].name + \" took 3 damage!\")\n",
        "      if offPlayer.board[target-5].health <= 0:\n",
        "        print(\"Opponent's \" + offPlayer.board[target-5].name + \" has been slain!\")\n",
        "        offPlayer.board[target-5] =  UnitCard(\"EmptyPos\",0,0,0,\"0\")\n",
        "  elif spellChosen.name == \"Vitality Boon\":\n",
        "    target = spellSelector(currentPlayer, offPlayer)\n",
        "    if target < 5:\n",
        "      currentPlayer.board[target].health += 5\n",
        "      print(\"Your \" + currentPlayer.board[target].name + \" received 5 extra HP!\")\n",
        "    else:\n",
        "      offPlayer.board[target-5].health += 5\n",
        "      print(\"Opponent's \" + offPlayer.board[target-5].name + \" received 5 extra HP!\")\n",
        "  elif spellChosen.name == \"Earthquake Rune\":\n",
        "    print(\"All units on the enemy's board took 2 damage!\")\n",
        "    for units in range(5):\n",
        "      offPlayer.board[units].health -= 2\n",
        "      if offPlayer.board[units].health <= 0 and offPlayer.board[units].boardIcon != \"0\":\n",
        "        print(\"Opponent's \" + offPlayer.board[units].name + \" has been slain!\")\n",
        "        offPlayer.board[units] =  UnitCard(\"EmptyPos\",0,0,0,\"0\")\n",
        "    offPlayer.health -= 2\n",
        "  elif spellChosen.name ==\"Switcheroo\":\n",
        "    print(\"For your first monster,\")\n",
        "    target1 = spellSelector(currentPlayer, offPlayer)\n",
        "    print(\"For your second monster,\")\n",
        "    target2 = spellSelector(currentPlayer, offPlayer)\n",
        "    if target1 < 5:\n",
        "      temp = currentPlayer.board[target1]\n",
        "      if target2 < 5:\n",
        "        print(\"Target 1:\")\n",
        "        print(currentPlayer.board[target1].name)\n",
        "        print(\"Target 2:\")\n",
        "        print(currentPlayer.board[target2].name)\n",
        "        currentPlayer.board[target1] = currentPlayer.board[target2]\n",
        "        currentPlayer.board[target2] = temp\n",
        "      else:\n",
        "        target2 -= 5\n",
        "        print(\"Target 1:\")\n",
        "        print(currentPlayer.board[target1].name)\n",
        "        print(\"Target 2:\")\n",
        "        print(offPlayer.board[target2].name)\n",
        "        currentPlayer.board[target1] = offPlayer.board[target2]\n",
        "        offPlayer.board[target2] = temp\n",
        "    else:\n",
        "      target1 -= 5\n",
        "      temp = offPlayer.board[target1]\n",
        "      if target2 < 5:\n",
        "        print(\"Target 1:\")\n",
        "        print(offPlayer.board[target1].name)\n",
        "        print(\"Target 2:\")\n",
        "        print(currentPlayer.board[target2].name)\n",
        "        offPlayer.board[target1] = currentPlayer.board[target2]\n",
        "        currentPlayer.board[target2] = temp\n",
        "      else:\n",
        "        target2 -= 5\n",
        "        print(\"Target 1:\")\n",
        "        print(offPlayer.board[target1].name)\n",
        "        print(\"Target 2:\")\n",
        "        print(offPlayer.board[target2].name)\n",
        "        offPlayer.board[target1] = offPlayer.board[target2]\n",
        "        offPlayer.board[target2] = temp\n",
        "    print(\"The two units swapped places!\")\n",
        "  elif spellChosen.name == \"Second Wind\":\n",
        "    currentPlayer.health += 12\n",
        "    print(\"You have been healed for 12 damage!\")\n"
      ],
      "metadata": {
        "id": "IpJDqBwoxzOb"
      },
      "execution_count": 77,
      "outputs": []
    },
    {
      "cell_type": "code",
      "source": [
        "def spellSelector(currentPlayer, offPlayer):\n",
        "  print(\"Choose a target for your spell (1-5 for your units [left to right], 6-10 for your opponent's units)\")\n",
        "  playerInput = input()\n",
        "  endLoop = False\n",
        "  while endLoop == False:\n",
        "    try:\n",
        "      if int(playerInput) > 10 or int(playerInput) < 1:\n",
        "        print(\"Not a valid position\")\n",
        "        playerInput = input()\n",
        "      elif int(playerInput) <= 5:\n",
        "        if currentPlayer.board[int(playerInput)-1].health == 0:\n",
        "          print(\"There is no unit at that location\")\n",
        "          playerInput = input()\n",
        "        else:\n",
        "          return int(playerInput) - 1\n",
        "      else:\n",
        "        if offPlayer.board[int(playerInput)-6].health == 0:\n",
        "          print(\"There is no unit at that location\")\n",
        "          playerInput = input()\n",
        "        else:\n",
        "          return int(playerInput) - 1\n",
        "    except:\n",
        "      print(\"Invalid input\")\n",
        "      playerInput = input()"
      ],
      "metadata": {
        "id": "jxT3VrDA3X-x"
      },
      "execution_count": 75,
      "outputs": []
    },
    {
      "cell_type": "code",
      "source": [
        "#iterating through each column, units played will either attack the opposing unit or the opposing player. Unlike hearthstone, attacks only hurt the defender and not the attacker as well.\n",
        "def battlePhase(currentPlayer, offPlayer):\n",
        "  output.clear()\n",
        "  print(\"---------------------\")\n",
        "  print(\"Battle phase!\")\n",
        "  time.sleep(1)\n",
        "  for cards in range(5):\n",
        "    print(\"Column \" + str(cards+1) + \" attacks!\")\n",
        "    if currentPlayer.board[cards].boardIcon == \"0\": #if there is no unit in play\n",
        "      print(\"You have no unit to attack with in this column\")\n",
        "    else:\n",
        "      if offPlayer.board[cards].health <= 0:\n",
        "        print(\"Opponent has no unit to defend and takes \" + str(currentPlayer.board[cards].attack) + \" damage!\") #if there is no unit to defend\n",
        "        offPlayer.health -= currentPlayer.board[cards].attack\n",
        "      else:\n",
        "        print(\"Opponent's \" + str(offPlayer.board[cards].name) + \" takes \" + str(currentPlayer.board[cards].attack) + \" damage!\") #if there is a unit to defend\n",
        "        offPlayer.board[cards].health -= currentPlayer.board[cards].attack\n",
        "        if offPlayer.board[cards].health <= 0:\n",
        "          print(\"Opponent's \" + offPlayer.board[cards].name + \" has been slain!\") #if the defending unit dies\n",
        "          offPlayer.board[cards] =  UnitCard(\"EmptyPos\",0,0,0,\"0\")\n",
        "    time.sleep(1)\n",
        "    print()\n",
        "  generateBoard(currentPlayer, offPlayer)\n",
        "  generateStats(currentPlayer, offPlayer)\n",
        "  print(\"Input anything to continue\") #acts as a buffer for the player to decide on their next move or just take in the board state\n",
        "  input()"
      ],
      "metadata": {
        "id": "zgu9QUK8G60T"
      },
      "execution_count": 82,
      "outputs": []
    },
    {
      "cell_type": "code",
      "source": [
        "def suddenDeath(leadingPlayer, laggingPlayer):\n",
        "  print(\"Player \" + leadingPlayer.ID + \" is out of cards! Because of this, the game has entered sudden death! The person with the least HP loses!\")\n",
        "  print(\"Player \" + leadingPlayer.ID + \": \" + str(leadingPlayer.health) + \" health\")\n",
        "  print(\"Player \" + laggingPlayer.ID + \": \" + str(laggingPlayer.health) + \" health\")\n",
        "  if leadingPlayer.health > laggingPlayer.health:\n",
        "    print(\"Player \" + leadingPlayer.ID + \" wins!\")\n",
        "  elif leadingPlayer.health < laggingPlayer.health:\n",
        "    print(\"Player \" + laggingPlayer.ID + \" wins!\")\n",
        "  else:\n",
        "    print(\"Both players have the same HP! The game ends in a tie\")"
      ],
      "metadata": {
        "id": "MAv6Vm1jEUkV"
      },
      "execution_count": 69,
      "outputs": []
    },
    {
      "cell_type": "code",
      "source": [
        "#prints a 2D array of each player's mana, health, avatars, and unit icons on the board.\n",
        "def generateBoard(currentPlayer, offPlayer):\n",
        "  print(\"Current game board:\")\n",
        "  print(\"---------------------\")\n",
        "  TwoD = [[\"MP:\" + str(offPlayer.tempMana) + \"  \" + str(offPlayer.ID) + \"  HP:\" + str(offPlayer.health)],\n",
        "          [\" \" + \"_\" + \" \" + \"_\" + \" \" + \"_\" + \" \" + \"_\" + \" \" + \"_\" + \" \" + \"_\" + \" \"],\n",
        "          [\"|\" + \" \" + offPlayer.board[0].boardIcon + \" \" + offPlayer.board[1].boardIcon + \" \" + offPlayer.board[2].boardIcon + \" \" + offPlayer.board[3].boardIcon + \" \" + offPlayer.board[4].boardIcon + \" \" + \"|\"],\n",
        "          [\" \" + \"-\" + \" \" + \"-\" + \" \" + \"-\" + \" \" + \"-\" + \" \" + \"-\" + \" \" + \"-\" + \" \"],\n",
        "          [\"|\" + \" \" + currentPlayer.board[0].boardIcon + \" \" + currentPlayer.board[1].boardIcon + \" \" + currentPlayer.board[2].boardIcon + \" \" + currentPlayer.board[3].boardIcon + \" \" + currentPlayer.board[4].boardIcon + \" \" + \"|\"],\n",
        "          [\" \" + \"‾\" + \" \" + \"‾\" + \" \" + \"‾\" + \" \" + \"‾\" + \" \" + \"‾\" + \" \" + \"‾\" + \" \"],\n",
        "          [\"MP:\" + str(currentPlayer.tempMana) + \"  \" + str(currentPlayer.ID) + \"  HP:\" + str(currentPlayer.health)]]\n",
        "  for arrays in TwoD:\n",
        "    for elements in arrays:\n",
        "      print(elements)\n",
        "  print(\"---------------------\")"
      ],
      "metadata": {
        "id": "JkhQ2YXSlWS3"
      },
      "execution_count": 70,
      "outputs": []
    },
    {
      "cell_type": "code",
      "source": [
        "def generateStats(currentPlayer, offPlayer):\n",
        "  print(\"Your units: \")\n",
        "  for x in range (1,6):\n",
        "    if currentPlayer.board[x-1].name == \"EmptyPos\":\n",
        "      print(str(x) + \". No unit\")\n",
        "    else:\n",
        "      print(str(x) + \". \" + currentPlayer.board[x-1].name + \" (\" + str(currentPlayer.board[x-1].attack) + \"/\" + str(currentPlayer.board[x-1].health) + \")\")\n",
        "  print()\n",
        "  print(\"Opponent's units: \")\n",
        "  for y in range (1,6):\n",
        "    if offPlayer.board[y-1].name == \"EmptyPos\":\n",
        "      print(str(x) + \". No unit\")\n",
        "    else:\n",
        "      print(str(y) + \". \" + offPlayer.board[y-1].name + \" (\" + str(offPlayer.board[y-1].attack) + \"/\" + str(offPlayer.board[y-1].health) + \")\")\n",
        "  print(\"---------------------\")"
      ],
      "metadata": {
        "id": "A6qTYcO3PYvl"
      },
      "execution_count": 74,
      "outputs": []
    },
    {
      "cell_type": "code",
      "source": [
        "def generateHand(currentPlayer, offPlayer):\n",
        "  print(\"Current hand:\")\n",
        "  position = 0\n",
        "  for cards in currentPlayer.hand:\n",
        "    position += 1\n",
        "    print(str(position) + \":\" + cards.name)\n",
        "  print()"
      ],
      "metadata": {
        "id": "QjozFFRahs_y"
      },
      "execution_count": 72,
      "outputs": []
    },
    {
      "cell_type": "code",
      "source": [
        "runGame()"
      ],
      "metadata": {
        "id": "yDYf6_-5VBiI"
      },
      "execution_count": null,
      "outputs": []
    },
    {
      "cell_type": "code",
      "source": [],
      "metadata": {
        "id": "sNmTzmVqk9wx"
      },
      "execution_count": null,
      "outputs": []
    }
  ]
}