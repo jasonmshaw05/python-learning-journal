{
  "nbformat": 4,
  "nbformat_minor": 0,
  "metadata": {
    "colab": {
      "provenance": [],
      "authorship_tag": "ABX9TyNT1RPe+/Dh9MUr3OcKjbsj",
      "include_colab_link": true
    },
    "kernelspec": {
      "name": "python3",
      "display_name": "Python 3"
    },
    "language_info": {
      "name": "python"
    }
  },
  "cells": [
    {
      "cell_type": "markdown",
      "metadata": {
        "id": "view-in-github",
        "colab_type": "text"
      },
      "source": [
        "<a href=\"https://colab.research.google.com/github/jasonmshaw05/python-learning-journal/blob/main/MazeSearch.ipynb\" target=\"_parent\"><img src=\"https://colab.research.google.com/assets/colab-badge.svg\" alt=\"Open In Colab\"/></a>"
      ]
    },
    {
      "cell_type": "code",
      "source": [
        "def search():\n",
        "  mazeArray[p[0]][p[1]] = 4      #sets current position after movement\n",
        "  if mazeArray[4][4] == 4:       #checks if the end of the maze has been reached\n",
        "    return True\n",
        "\n",
        "  #0 = new, unchecked path\n",
        "  #1 = wall\n",
        "  #2 = current working path\n",
        "  #3 = dead end block\n",
        "  #4 = current position\n",
        "\n",
        "  #The following blocks of code check if the current position is next to a maze \"bound\" (end of index) and prevent out of bounds shennanigans\n",
        "\n",
        "  try:\n",
        "    right = mazeArray[p[0]][p[1]+1]\n",
        "  except IndexError:\n",
        "    right = 1\n",
        "\n",
        "  up = mazeArray[p[0]-1][p[1]]\n",
        "  if p[0]-1 == -1:\n",
        "    up = 1\n",
        "\n",
        "  left = mazeArray[p[0]][p[1]-1]\n",
        "  if p[1]-1 == -1:\n",
        "    left = 1\n",
        "\n",
        "  try:\n",
        "    down = mazeArray[p[0]+1][p[1]]\n",
        "  except IndexError:\n",
        "    down = 1\n",
        "\n",
        "  #The following blocks of code check for open, new paths, starting to the right and moving counter-clockwise\n",
        "\n",
        "  if right == 0:                #searching right\n",
        "    mazeArray[p[0]][p[1]] = 2   #marking current path as \"walked\"\n",
        "    p[1] = p[1] + 1             #walking right\n",
        "    search()                    #searching again\n",
        "\n",
        "  elif up == 0:                 #searching up\n",
        "    mazeArray[p[0]][p[1]] = 2\n",
        "    p[0] = p[0] - 1\n",
        "    search()\n",
        "\n",
        "  elif left == 0:               #searching left\n",
        "    mazeArray[p[0]][p[1]] = 2\n",
        "    p[1] = p[1] - 1\n",
        "    search()\n",
        "\n",
        "  elif down == 0:               #searching down\n",
        "    mazeArray[p[0]][p[1]] = 2\n",
        "    p[0] = p[0] + 1\n",
        "    search()\n",
        "\n",
        "  #If no new paths are found, the code then tries to backtrack, marking the position left with a \"3\" to signify it as a dead end\n",
        "\n",
        "  elif right == 2:              #backtracking right\n",
        "    mazeArray[p[0]][p[1]] = 3   #marking current path as a dead end\n",
        "    p[1] = p[1] + 1             #walking right\n",
        "    search()                    #searching again\n",
        "\n",
        "  elif up == 2:          #backtracking up\n",
        "    mazeArray[p[0]][p[1]] = 3\n",
        "    p[0] = p[0] - 1\n",
        "    search()\n",
        "\n",
        "  elif left == 2:          #backtracking left\n",
        "    mazeArray[p[0]][p[1]] = 3\n",
        "    p[1] = p[1] - 1\n",
        "    search()\n",
        "\n",
        "  elif down == 2:          #backtracking down\n",
        "    mazeArray[p[0]][p[1]] = 3\n",
        "    p[0] = p[0] + 1\n",
        "    search()"
      ],
      "metadata": {
        "id": "nX0F7hoUE5yi"
      },
      "execution_count": null,
      "outputs": []
    },
    {
      "cell_type": "code",
      "source": [
        "mazeArray = [[0,1,0,0,0],\n",
        "            [0,1,0,1,0],\n",
        "             [0,0,0,1,0],\n",
        "            [0,1,1,1,0],\n",
        "            [1,1,1,1,0]]\n",
        "p = [0,0]\n",
        "search()\n",
        "if mazeArray[4][4] == 4:\n",
        "  print(\"Hooray! The maze was solvable! Here's the completed maze: \")\n",
        "  for arrays in mazeArray:\n",
        "    print(arrays)\n",
        "else:\n",
        "  print(\"Your maze wasn't able to be finished. That sucks\")"
      ],
      "metadata": {
        "colab": {
          "base_uri": "https://localhost:8080/"
        },
        "id": "0a2B8F3hMkuc",
        "outputId": "32c70ee2-e105-4809-8f2a-88e341f8ebb8"
      },
      "execution_count": null,
      "outputs": [
        {
          "output_type": "stream",
          "name": "stdout",
          "text": [
            "Your maze wasn't able to be finished. That sucks\n"
          ]
        }
      ]
    }
  ]
}